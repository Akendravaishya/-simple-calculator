{
 "cells": [
  {
   "cell_type": "code",
   "execution_count": null,
   "id": "8a5c5013-ebf2-482c-be90-74987e5336a5",
   "metadata": {},
   "outputs": [],
   "source": [
    "a=int(input(\"enter first number:\"))\n",
    "choice=(input(\"enter your choice\"))\n",
    "b=int(input(\"enter second number: \"))\n",
    "print(\"enter + for addition\",\"enter - for subtraction\",\"enter * for multiplication\",\"enter / for divison\",sep=\" \")\n",
    "if(choice=='+'):\n",
    "    print(\"sum of a+b=\",a+b)\n",
    "elif(choice=='-'):\n",
    "    print(\"subtraction of a-b\",a-b)\n",
    "elif(choice=='*'):\n",
    "     print(\"multiplication of a*b\",a*b)\n",
    "elif(choice=='/'):\n",
    "    print(\"divison for a/b\",a/b)\n",
    "else:\n",
    "    print(\"invalid input\")"
   ]
  },
  {
   "cell_type": "code",
   "execution_count": null,
   "id": "ad3e4f4c-be7c-4944-9a5c-3ba501249292",
   "metadata": {},
   "outputs": [],
   "source": []
  }
 ],
 "metadata": {
  "kernelspec": {
   "display_name": "Python 3 (ipykernel)",
   "language": "python",
   "name": "python3"
  },
  "language_info": {
   "codemirror_mode": {
    "name": "ipython",
    "version": 3
   },
   "file_extension": ".py",
   "mimetype": "text/x-python",
   "name": "python",
   "nbconvert_exporter": "python",
   "pygments_lexer": "ipython3",
   "version": "3.12.4"
  }
 },
 "nbformat": 4,
 "nbformat_minor": 5
}
